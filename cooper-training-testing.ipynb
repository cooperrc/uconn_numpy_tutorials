{
 "cells": [
  {
   "cell_type": "code",
   "execution_count": 47,
   "metadata": {},
   "outputs": [],
   "source": [
    "import numpy as np\n",
    "import matplotlib.pyplot as plt"
   ]
  },
  {
   "cell_type": "code",
   "execution_count": 48,
   "metadata": {},
   "outputs": [],
   "source": [
    "x = np.linspace(0,10)\n",
    "y = 10*x + np.random.rand(len(x))*5"
   ]
  },
  {
   "cell_type": "code",
   "execution_count": 49,
   "metadata": {},
   "outputs": [
    {
     "data": {
      "text/plain": [
       "[<matplotlib.lines.Line2D at 0x7fbafbe11940>]"
      ]
     },
     "execution_count": 49,
     "metadata": {},
     "output_type": "execute_result"
    },
    {
     "data": {
      "image/png": "[encoded data removed]",
      "text/plain": [
       "<Figure size 432x288 with 1 Axes>"
      ]
     },
     "metadata": {
      "needs_background": "light"
     },
     "output_type": "display_data"
    }
   ],
   "source": [
    "plt.plot(x,y)"
   ]
  },
  {
   "cell_type": "markdown",
   "metadata": {},
   "source": [
    "# Create indices of x in random order\n",
    "e.g. [48, 0, 1, ... 3] where i is 0-49"
   ]
  },
  {
   "cell_type": "code",
   "execution_count": 37,
   "metadata": {},
   "outputs": [],
   "source": [
    "from numpy.random import default_rng \n",
    "rng = default_rng() \n",
    "i_test = rng.choice(len(x), size=len(x), replace=False)"
   ]
  },
  {
   "cell_type": "markdown",
   "metadata": {},
   "source": [
    "get first 10 values and use as testing data points"
   ]
  },
  {
   "cell_type": "code",
   "execution_count": 52,
   "metadata": {},
   "outputs": [
    {
     "name": "stdout",
     "output_type": "stream",
     "text": [
      "[[  2.85714286  30.34804316]\n",
      " [  6.93877551  71.83231471]\n",
      " [  0.           1.65858592]\n",
      " [  5.91836735  62.68622916]\n",
      " [  3.46938776  37.24101449]\n",
      " [  3.26530612  36.381766  ]\n",
      " [ 10.         104.63969512]\n",
      " [  1.02040816  12.24346184]\n",
      " [  5.30612245  56.77181251]\n",
      " [  0.40816327   4.28033907]\n",
      " [  5.71428571  57.47978127]\n",
      " [  8.97959184  90.33299908]\n",
      " [  3.06122449  32.76322396]\n",
      " [  6.53061224  65.44891265]\n",
      " [  9.79591837  98.34923475]\n",
      " [  0.81632653  11.43233484]\n",
      " [  5.10204082  52.22608917]\n",
      " [  7.95918367  84.07830564]\n",
      " [  2.65306122  31.30614303]\n",
      " [  4.08163265  44.81990529]\n",
      " [  7.75510204  78.67199831]\n",
      " [  6.12244898  63.53366743]\n",
      " [  4.89795918  50.4246219 ]\n",
      " [  6.73469388  68.54570897]\n",
      " [  2.44897959  24.86275553]\n",
      " [  4.28571429  46.79732432]\n",
      " [  1.2244898   13.21067073]\n",
      " [  7.55102041  77.19989737]\n",
      " [  3.87755102  43.11314576]\n",
      " [  8.16326531  81.93506099]\n",
      " [  1.83673469  21.16381048]\n",
      " [  2.04081633  25.19336581]\n",
      " [  9.18367347  96.27714308]\n",
      " [  9.3877551   96.73723259]\n",
      " [  0.6122449   10.21179977]\n",
      " [  6.32653061  64.887967  ]\n",
      " [  8.7755102   89.14900198]\n",
      " [  7.34693878  74.76504657]\n",
      " [  8.36734694  85.35330495]\n",
      " [  3.67346939  40.16184714]\n",
      " [  4.48979592  47.02895308]\n",
      " [  7.14285714  72.68149362]\n",
      " [  9.59183673  96.07611214]\n",
      " [  8.57142857  86.55363843]\n",
      " [  2.24489796  23.33237399]\n",
      " [  1.63265306  19.8202295 ]\n",
      " [  0.20408163   6.43099925]\n",
      " [  4.69387755  50.32957244]\n",
      " [  5.51020408  56.61676859]\n",
      " [  1.42857143  17.90667537]]\n"
     ]
    }
   ],
   "source": [
    "A = np.block([x[:,np.newaxis],y[:,np.newaxis]])\n",
    "Arand = A.copy()\n",
    "np.random.shuffle(Arand)\n",
    "print(Arand)"
   ]
  },
  {
   "cell_type": "code",
   "execution_count": 37,
   "metadata": {},
   "outputs": [],
   "source": [
    "x_test = x[i_test[0:10]]\n",
    "y_test = y[i_test[0:10]]\n",
    "x_train = x[i_test[10:]]\n",
    "y_train = y[i_test[10:]]"
   ]
  },
  {
   "cell_type": "code",
   "execution_count": 38,
   "metadata": {},
   "outputs": [
    {
     "data": {
      "text/plain": [
       "[<matplotlib.lines.Line2D at 0x7fbafbca6490>]"
      ]
     },
     "execution_count": 38,
     "metadata": {},
     "output_type": "execute_result"
    },
    {
     "data": {
      "image/png": "[encoded data removed]",
      "text/plain": [
       "<Figure size 432x288 with 1 Axes>"
      ]
     },
     "metadata": {
      "needs_background": "light"
     },
     "output_type": "display_data"
    }
   ],
   "source": [
    "plt.plot(x_test,y_test,'s')\n",
    "plt.plot(x_train,y_train,'o')"
   ]
  },
  {
   "cell_type": "code",
   "execution_count": 40,
   "metadata": {},
   "outputs": [
    {
     "name": "stdout",
     "output_type": "stream",
     "text": [
      "[9.94883239 2.91200345]\n"
     ]
    }
   ],
   "source": [
    "out = np.polyfit(x_train,y_train,1)\n",
    "print(out)"
   ]
  },
  {
   "cell_type": "code",
   "execution_count": 42,
   "metadata": {},
   "outputs": [
    {
     "name": "stdout",
     "output_type": "stream",
     "text": [
      "[19.15499511  4.94237741 33.36761282 92.24845759 96.3092055  31.33723886\n",
      " 67.8839701   6.97275137 13.06387324 15.0942472 ]\n",
      "[17.24754346  5.14583079 33.45529936 94.40779194 98.29074741 31.53557263\n",
      " 67.36041521  4.34452598 12.03222928 14.79278247]\n"
     ]
    }
   ],
   "source": [
    "print(out[0]*x_test+out[1])\n",
    "print(y_test)"
   ]
  },
  {
   "cell_type": "code",
   "execution_count": 43,
   "metadata": {},
   "outputs": [
    {
     "name": "stdout",
     "output_type": "stream",
     "text": [
      "[ 1.90745165 -0.20345338 -0.08768654 -2.15933435 -1.98154191 -0.19833377\n",
      "  0.52355488  2.62822539  1.03164396  0.30146473]\n"
     ]
    }
   ],
   "source": [
    "print(out[0]*x_test+out[1] - y_test)"
   ]
  },
  {
   "cell_type": "code",
   "execution_count": null,
   "metadata": {},
   "outputs": [],
   "source": []
  }
 ],
 "metadata": {
  "kernelspec": {
   "display_name": "Python 3",
   "language": "python",
   "name": "python3"
  },
  "language_info": {
   "codemirror_mode": {
    "name": "ipython",
    "version": 3
   },
   "file_extension": ".py",
   "mimetype": "text/x-python",
   "name": "python",
   "nbconvert_exporter": "python",
   "pygments_lexer": "ipython3",
   "version": "3.8.3"
  }
 },
 "nbformat": 4,
 "nbformat_minor": 4
}
