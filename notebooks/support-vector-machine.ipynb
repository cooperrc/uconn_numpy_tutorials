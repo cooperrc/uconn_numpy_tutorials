{
 "cells": [
  {
   "cell_type": "code",
   "execution_count": null,
   "metadata": {},
   "outputs": [],
   "source": [
    "def linear_kernel(**kwargs):\n",
    "    def f(x1, x2):\n",
    "        return np.inner(x1, x2) #x1@x2\n",
    "    return f\n",
    "\n",
    "def polynomial_kernel(d, **kwargs):\n",
    "    def f(x1, x2):\n",
    "        return (np.inner(x1, x2) + 1) ** d\n",
    "    return f\n",
    "\n",
    "def gaussian_kernel(sigma, **kwargs):\n",
    "    def f(x1, x2):\n",
    "        distance = np.linalg.norm(x1 - x2) ** 2\n",
    "        return np.exp(-distance / (2 * (sigma ** 2)))\n",
    "    return f"
   ]
  },
  {
   "cell_type": "code",
   "execution_count": null,
   "metadata": {},
   "outputs": [],
   "source": [
    "class SVM:\n",
    "    def __init__(self, C=10, kernel=gaussian_kernel, d=4, sigma=None):\n",
    "        self.C = C # penalty term\n",
    "        self.kernel = kernel # Kernel function (linear, polynomial, or Gaussian)\n",
    "        self.d = d # Degree of the polynomial kernel\n",
    "        self.sigma = sigma # Constant in the Gaussian kernel\n",
    "        \n",
    "        # cache values that will need to be used again\n",
    "        self.kernel_matrix = None\n",
    "        self.lagr_multipliers = None\n",
    "        self.support_vectors = None\n",
    "        self.support_vector_labels = None\n",
    "        self.intercept = None\n",
    "        \n",
    "    def kernel_1(self, X):\n",
    "        n_samples, n_features = np.shape(X)\n",
    "\n",
    "        # Default value for sigma\n",
    "        if not self.sigma:\n",
    "            self.sigma = 1 / n_features\n",
    "\n",
    "        # Compute the kernel matrix\n",
    "        self.kernel = self.kernel(\n",
    "            d=self.d,\n",
    "            sigma=self.sigma)\n",
    "        \n",
    "        self.kernel_matrix = np.zeros((n_samples, n_samples))\n",
    "        for i in range(n_samples):\n",
    "            for j in range(n_samples):\n",
    "                self.kernel_matrix[i, j] = self.kernel(X[i], X[j])\n",
    "    \n",
    "    def intercept_1(self, X, y):\n",
    "        n_samples, n_features = np.shape(X)\n",
    "        \n",
    "        # Quadratic optimization problem\n",
    "        P = cvxopt.matrix(np.outer(y, y) * self.kernel_matrix, tc='d')\n",
    "        q = cvxopt.matrix(np.ones(n_samples) * -1)\n",
    "        A = cvxopt.matrix(y, (1, n_samples), tc='d')\n",
    "        b = cvxopt.matrix(0, tc='d')\n",
    "        G = cvxopt.matrix(np.vstack((np.identity(n_samples) * -1, np.identity(n_samples))))\n",
    "        h = cvxopt.matrix(np.vstack((cvxopt.matrix(np.zeros(n_samples)), cvxopt.matrix(np.ones(n_samples) * self.C))))\n",
    "\n",
    "        # Minimize the quadratic problem\n",
    "        minimization = cvxopt.solvers.qp(P, q, G, h, A, b)\n",
    "\n",
    "        # Lagrange multipliers\n",
    "        lagr_mult = np.ravel(minimization['x'])\n",
    "\n",
    "        # Support vectors\n",
    "        self.lagr_multipliers = lagr_mult[lagr_mult > 1e-7]\n",
    "        self.support_vectors = X[lagr_mult > 1e-7]\n",
    "        self.support_vector_labels = y[lagr_mult > 1e-7]\n",
    "        \n",
    "        # Finally, calculate the intercept using the first support vector\n",
    "        self.intercept = self.support_vector_labels[0]\n",
    "        for i in range(len(self.lagr_multipliers)):\n",
    "            self.intercept = self.intercept - self.lagr_multipliers[i] * self.support_vector_labels[i] * self.kernel(self.support_vectors[i], self.support_vectors[0])\n",
    "\n",
    "    def fit(self, X, y):\n",
    "        # Fit the training data on the model\n",
    "        self.kernel_1(X)\n",
    "        self.intercept_1(X, y)\n",
    "\n",
    "    def predict(self, X):\n",
    "        y_pred = []\n",
    "    \n",
    "        for x in X:\n",
    "            # Predict using the lagrange multipliers, support vectors, kernel, and intercept\n",
    "            prediction = 0\n",
    "            for i in range(len(self.lagr_multipliers)):\n",
    "                prediction += self.lagr_multipliers[i] * self.support_vector_labels[i] * self.kernel(self.support_vectors[i], x)\n",
    "            \n",
    "            prediction += self.intercept\n",
    "            y_pred.append(np.sign(prediction)) # The sign function returns -1 if x < 0, 0 if x==0, 1 if x > 0\n",
    "\n",
    "        return np.array(y_pred)"
   ]
  },
  {
   "cell_type": "code",
   "execution_count": null,
   "metadata": {},
   "outputs": [],
   "source": [
    "X = X_train.values\n",
    "y = y_train.values"
   ]
  },
  {
   "cell_type": "code",
   "execution_count": null,
   "metadata": {},
   "outputs": [],
   "source": [
    "svm = SVM(C=10, kernel=linear_kernel)\n",
    "svm.fit(X, y)\n",
    "pred = svm.predict(X_test.values)"
   ]
  },
  {
   "cell_type": "code",
   "execution_count": null,
   "metadata": {},
   "outputs": [],
   "source": [
    "print('\\nTraining Accuracy: '+ str(np.mean((pred.T == y_test) * 100)) + '%')"
   ]
  },
  {
   "cell_type": "code",
   "execution_count": null,
   "metadata": {},
   "outputs": [],
   "source": [
    "svm = SVM(C=10, kernel=polynomial_kernel, d=2)\n",
    "svm.fit(X, y)\n",
    "pred = svm.predict(X_test.values)"
   ]
  },
  {
   "cell_type": "code",
   "execution_count": null,
   "metadata": {},
   "outputs": [],
   "source": [
    "print('\\nTraining Accuracy: '+ str(np.mean((pred.T == y_test) * 100)) + '%')"
   ]
  },
  {
   "cell_type": "code",
   "execution_count": null,
   "metadata": {},
   "outputs": [],
   "source": [
    "svm = SVM(C=10, kernel=gaussian_kernel, sigma=8)\n",
    "svm.fit(X, y)\n",
    "pred = svm.predict(X_test.values)"
   ]
  },
  {
   "cell_type": "code",
   "execution_count": null,
   "metadata": {},
   "outputs": [],
   "source": [
    "print('\\nTraining Accuracy: '+ str(np.mean((pred.T == y_test) * 100)) + '%')"
   ]
  }
 ],
 "metadata": {
  "kernelspec": {
   "display_name": "Python 3",
   "language": "python",
   "name": "python3"
  },
  "language_info": {
   "codemirror_mode": {
    "name": "ipython",
    "version": 3
   },
   "file_extension": ".py",
   "mimetype": "text/x-python",
   "name": "python",
   "nbconvert_exporter": "python",
   "pygments_lexer": "ipython3",
   "version": "3.7.4"
  }
 },
 "nbformat": 4,
 "nbformat_minor": 4
}
