{
 "cells": [
  {
   "cell_type": "markdown",
   "metadata": {},
   "source": [
    "# Build a Collaborative Filtering Recommendation System in NumPy\n",
    "***\n",
    "<img src=\"collaborative_filtering.png\" width=\"22%\"/>\n",
    "\n",
    "_Recommender systems are machine learning systems that are responsible for predicting user preferences. They represent a powerful method for enabling users to filter through large information and product spaces._\n",
    "\n",
    "## What you'll do\n",
    "\n",
    "In this tutorial, we will use NumPy to build a model-based recommendation system. In other words, we will extract some information from the dataset, and use that as a \"model\" to make recommendations without having to use the complete dataset every time. This approach offers the benefits of both speed and scalability.\n",
    "\n",
    "## What you'll learn\n",
    "\n",
    "- You'll learn to load data from a comma separated values (\\*.csv) file\n",
    "- You'll use ordinary least squares to do linear regression and predict exponential growth\n",
    "- You'll compare exponential growth constants between models\n",
    "- You'll share your analysis as NumPy zipped files (\\*.npz) \n",
    "- You'll share your analysis as a \\*.csv file\n",
    "- You'll assess the amazing progress semiconductor manufacturers have made in the last five decades\n",
    "\n",
    "## What you'll need\n",
    "\n",
    "First, you need to import the necessary libraries:\n",
    "\n",
    "* NumPy\n",
    "* Matplotlib\n",
    "* Tqdm"
   ]
  },
  {
   "cell_type": "code",
   "execution_count": 2,
   "metadata": {},
   "outputs": [],
   "source": [
    "import numpy as np\n",
    "import matplotlib.pyplot as plt\n",
    "import tqdm"
   ]
  },
  {
   "cell_type": "markdown",
   "metadata": {},
   "source": [
    "## Loading the MovieLens 100K dataset to our workspace\n",
    "\n",
    "The dataset used in this tutorial is stored as a `*.npy` file. A `*.npy` file is a NumPy array file that contains an array saved in the NumPy file format. A `*.npy` file stores all the information required to reconstruct an array, including any `dtype` and `shape` information.\n",
    "\n",
    "The dataset used in this tutorial is a subset of the [MovieLens dataset](https://grouplens.org/datasets/movielens/100k/). It consists of 90,570 ratings (1-5) from 943 users on 1680 movies. \n",
    "\n",
    "Note that each user has rated at least 20 movies. This indicates that there will be a lot of sparsity in the data - this is precisely why we will create a model-based Collaborative Filtering system. \n",
    "\n",
    "A model-based Collaborative Filtering system is a latent factor model that can handle sparsity. Consider a sparse rating matrix of which the elements are ratings given by a user $j$ to a movie $i$. The rating matrix is modeled by a matrix product of $X$ (item-feature matrix) and $\\theta$ (user-feature matrix). Each rating given by user $j$ to movie $i$ is as follows:\n",
    "$$rating(i, j) = \\theta^{j^T} x^i$$\n",
    "The matrix form is as follows:\n",
    "$$rating = X * \\theta^T$$\n",
    "\n",
    "Your goal is to help estimate the missing ratings (values of 0 in the dataset).\n",
    "\n",
    "First, let us begin by simply loading the dataset using the `numpy.load` function. "
   ]
  },
  {
   "cell_type": "code",
   "execution_count": 5,
   "metadata": {},
   "outputs": [],
   "source": [
    "ratings = np.load('ratings.npy')"
   ]
  },
  {
   "cell_type": "code",
   "execution_count": 6,
   "metadata": {},
   "outputs": [
    {
     "data": {
      "text/plain": [
       "array([[5., 4., 0., ..., 5., 0., 0.],\n",
       "       [3., 0., 0., ..., 0., 0., 5.],\n",
       "       [4., 0., 0., ..., 0., 0., 0.],\n",
       "       ...,\n",
       "       [0., 0., 0., ..., 0., 0., 0.],\n",
       "       [0., 0., 0., ..., 0., 0., 0.],\n",
       "       [0., 0., 0., ..., 0., 0., 0.]])"
      ]
     },
     "execution_count": 6,
     "metadata": {},
     "output_type": "execute_result"
    }
   ],
   "source": [
    "ratings"
   ]
  },
  {
   "cell_type": "code",
   "execution_count": 7,
   "metadata": {},
   "outputs": [
    {
     "data": {
      "text/plain": [
       "(1680, 943)"
      ]
     },
     "execution_count": 7,
     "metadata": {},
     "output_type": "execute_result"
    }
   ],
   "source": [
    "ratings.shape"
   ]
  },
  {
   "cell_type": "markdown",
   "metadata": {},
   "source": [
    "The `shape` of the data tells us that there are 943 users and 1680 movies.\n",
    "\n",
    "A dataframe representation of the matrix is shown below:\n",
    "\n",
    "||User 1|User 2|User 3|User 4|User 5|User 6|User 7|User 8|User 9|User 10|...|User 934|User 935|User 936|User 937|User 938|User 939|User 940|User 941|User 942|User 943|\n",
    "|---|---|---|---|---|---|---|---|---|---|---|---|---|---|---|---|---|---|---|---|---|---|\n",
    "|**Movie 1**|5|4|0|0|0|4|0|0|0|4|...|2|3|4|0|4|0|0|5|0|0|0|\n",
    "|**Movie 2**|3|0|0|0|0|0|0|0|0|0|...|4|0|0|0|0|0|0|0|0|5|0|\n",
    "|**Movie 3**|4|0|0|0|0|0|0|0|0|0|...|0|0|4|0|0|0|0|0|0|0|0|\n",
    "|**Movie 4**|3|0|0|0|0|0|5|0|0|4|...|5|0|0|0|0|0|2|0|0|0|0|\n",
    "|**Movie 5**|3|0|0|0|0|0|0|0|0|0|...|0|0|0|0|0|0|0|0|0|0|0|\n",
    "|...|...|...|...|...|...|...|...|...|...|...|...|...|...|...|...|...|...|...|...|...|...|...|\n",
    "|**Movie 1676**|0|0|0|0|0|0|0|0|0|0|...|0|0|0|0|0|0|0|0|0|0|0|\n",
    "|**Movie 1677**|0|0|0|0|0|0|0|0|0|0|...|0|0|0|0|0|0|0|0|0|0|0|\n",
    "|**Movie 1678**|0|0|0|0|0|0|0|0|0|0|...|0|0|0|0|0|0|0|0|0|0|0|\n",
    "|**Movie 1679**|0|0|0|0|0|0|0|0|0|0|...|0|0|0|0|0|0|0|0|0|0|0|\n",
    "|**Movie 1680**|0|0|0|0|0|0|0|0|0|0|...|0|0|0|0|0|0|0|0|0|0|0|"
   ]
  },
  {
   "cell_type": "markdown",
   "metadata": {},
   "source": [
    "In NumPy, all logical operators are applied _element-wise_. Let's further examine the sparsity of the matrix."
   ]
  },
  {
   "cell_type": "code",
   "execution_count": 8,
   "metadata": {},
   "outputs": [
    {
     "data": {
      "text/plain": [
       "array([[ True,  True, False, ...,  True, False, False],\n",
       "       [ True, False, False, ..., False, False,  True],\n",
       "       [ True, False, False, ..., False, False, False],\n",
       "       ...,\n",
       "       [False, False, False, ..., False, False, False],\n",
       "       [False, False, False, ..., False, False, False],\n",
       "       [False, False, False, ..., False, False, False]])"
      ]
     },
     "execution_count": 8,
     "metadata": {},
     "output_type": "execute_result"
    }
   ],
   "source": [
    "R = ratings != 0\n",
    "R"
   ]
  },
  {
   "cell_type": "markdown",
   "metadata": {},
   "source": [
    "To cast an array to a particular dtype, use the `astype` method."
   ]
  },
  {
   "cell_type": "code",
   "execution_count": 9,
   "metadata": {},
   "outputs": [
    {
     "data": {
      "text/plain": [
       "array([[1., 1., 0., ..., 1., 0., 0.],\n",
       "       [1., 0., 0., ..., 0., 0., 1.],\n",
       "       [1., 0., 0., ..., 0., 0., 0.],\n",
       "       ...,\n",
       "       [0., 0., 0., ..., 0., 0., 0.],\n",
       "       [0., 0., 0., ..., 0., 0., 0.],\n",
       "       [0., 0., 0., ..., 0., 0., 0.]])"
      ]
     },
     "execution_count": 9,
     "metadata": {},
     "output_type": "execute_result"
    }
   ],
   "source": [
    "R = R.astype(float)\n",
    "R"
   ]
  },
  {
   "cell_type": "markdown",
   "metadata": {},
   "source": [
    "Let's leverage the `numpy.count_nonzero` function to tally the number of nonzero elements."
   ]
  },
  {
   "cell_type": "code",
   "execution_count": 21,
   "metadata": {},
   "outputs": [
    {
     "data": {
      "text/plain": [
       "90570"
      ]
     },
     "execution_count": 21,
     "metadata": {},
     "output_type": "execute_result"
    }
   ],
   "source": [
    "np.count_nonzero(R)"
   ]
  },
  {
   "cell_type": "markdown",
   "metadata": {},
   "source": [
    "To check the total size of an array, simply use the `*.size` property.\n",
    "\n",
    "To get the sum of all the values in an array, simply use the `sum` method."
   ]
  },
  {
   "cell_type": "code",
   "execution_count": 11,
   "metadata": {},
   "outputs": [
    {
     "data": {
      "text/plain": [
       "0.9428306317224663"
      ]
     },
     "execution_count": 11,
     "metadata": {},
     "output_type": "execute_result"
    }
   ],
   "source": [
    "(R.size - R.sum()) / R.size"
   ]
  },
  {
   "cell_type": "markdown",
   "metadata": {},
   "source": [
    "Over 94% of our dataset is empty!"
   ]
  },
  {
   "cell_type": "markdown",
   "metadata": {},
   "source": [
    "Finally, let's try plotting the sparsity pattern of the matrix using the `ax.spy` function from `matplotlib`."
   ]
  },
  {
   "cell_type": "code",
   "execution_count": 25,
   "metadata": {},
   "outputs": [
    {
     "data": {
      "image/png": "[encoded data removed]",
      "text/plain": [
       "<Figure size 432x288 with 1 Axes>"
      ]
     },
     "metadata": {
      "needs_background": "light"
     },
     "output_type": "display_data"
    }
   ],
   "source": [
    "fig = plt.figure()\n",
    "ax = fig.add_subplot(111)\n",
    "\n",
    "# display the matrix\n",
    "ax.spy(R)\n",
    "\n",
    "ax.set_aspect('auto')"
   ]
  },
  {
   "cell_type": "markdown",
   "metadata": {},
   "source": [
    "***\n",
    "\n",
    "## Computing the regularized loss\n",
    "\n",
    "In order to find the best model, a common method in machine learning is to define a loss function that describes how well the model fits the data.\n",
    "\n",
    "In the case of polynomials, we can define a loss function, $J$, as follows:\n",
    "$$J = \\frac{1}{2} \\Bigg[ \\sum_{i=1}^{n_{items}} \\sum_{j:r(i,j)=1} (\\theta^{(j)^{T}} x^{(i)} - y^{(i,j)})^2 \\Bigg]$$\n",
    "\n",
    "Note that the rating matrix is modeled by a matrix product of $X$ (item-feature matrix) and $\\theta$ (user-feature matrix).\n",
    "\n",
    "Next, penalize the loss function by adding a regularization parameter. The regularization parameter reduces overfitting, which reduces the variance of your estimated regression parameters. In our case, we can use the square sum of the polynomial parameters.\n",
    "\n",
    "$$J = \\frac{1}{2} \\Bigg[ \\sum_{i=1}^{n_{items}} \\sum_{j:r(i,j)=1} (\\theta^{(j)^{T}} x^{(i)} - y^{(i,j)})^2 \\Bigg] + \\frac{\\lambda}{2} \\sum_{i=1}^{n_{items}} \\sum_{k=1}^{n} (x_k^{(i)})^2 + \\frac{\\lambda}{2} \\sum_{i=1}^{n_{users}} \\sum_{k=1}^{n} (\\theta_k^{(j)})^2$$\n",
    "\n",
    "The value of the $\\lambda$ can be adjusted as needed to calibrate the level of penalization on complex models. For very large $\\lambda$, models with high complexity are ruled out. Likewise, for very small $\\lambda$, models with high training errors are ruled out. Thus, the optimal solution lies somewhere in the middle.\n",
    "\n",
    "The goal of our model then is to minimize the following regularized loss function:\n",
    "$$J(\\theta^{(1)} \\theta^{(2)} \\dots \\theta^{(j)} \\dots \\theta^{(n_{users})}, x^{(1)} x^{(2)} \\dots x^{(i)} \\dots x^{(n_{items})}) = \\frac{1}{2} \\Bigg[ \\sum_{i=1}^{n_{items}} \\sum_{j:r(i,j)=1} (\\theta^{(j)^{T}} x^{(i)} - y^{(i,j)})^2 \\Bigg] + \\frac{\\lambda}{2} \\sum_{i=1}^{n_{items}} \\sum_{k=1}^{n} (x_k^{(i)})^2 + \\frac{\\lambda}{2} \\sum_{i=1}^{n_{users}} \\sum_{k=1}^{n} (\\theta_k^{(j)})^2$$\n",
    "\n",
    "NumPy makes implementating our regularized loss function fairly straightforward!\n",
    "\n",
    "***"
   ]
  },
  {
   "cell_type": "markdown",
   "metadata": {},
   "source": [
    "Let's take a look at the input arguments of the loss function.\n",
    "\n",
    "* **params**, _np.ndarray_, Random weights\n",
    "* **Y**, _np.ndarray_, User ratings\n",
    "* **R**, _np.ndarray_, User ratings are replaced with 1\n",
    "* **num_users**, _int_, Number of users\n",
    "* **num_movies**, _int_, Number of movies\n",
    "* **num_features**, _int_, Number of features\n",
    "* **lambd**, _float_, Regularization parameter"
   ]
  },
  {
   "cell_type": "code",
   "execution_count": 86,
   "metadata": {},
   "outputs": [],
   "source": [
    "def loss(\n",
    "    params: np.ndarray,\n",
    "    Y: np.ndarray,\n",
    "    R: np.ndarray,\n",
    "    num_users: int,\n",
    "    num_movies: int,\n",
    "    num_features: int,\n",
    "    lambd: float,\n",
    ") -> float:\n",
    "    \n",
    "    # unwrap params into X and theta\n",
    "    X = params[: num_movies * num_features].reshape(num_movies, num_features)\n",
    "    theta = params[num_movies * num_features:].reshape(num_users, num_features)\n",
    "    \n",
    "    # make prediction and compute loss\n",
    "    pred =  np.dot(X, theta.T)\n",
    "    loss = (pred - Y)\n",
    "    \n",
    "    # compute the loss\n",
    "    J = np.sum((np.square(loss * R))) / 2\n",
    "    \n",
    "    # compute the regularization\n",
    "    r_X =  lambd / 2 * np.sum(np.square(theta))\n",
    "    r_Theta = lambd / 2 * np.sum(np.square(X))\n",
    "    \n",
    "    # add to original loss\n",
    "    J = J + r_X + r_Theta\n",
    "    \n",
    "    return J"
   ]
  },
  {
   "cell_type": "markdown",
   "metadata": {},
   "source": [
    "$$\\sum_{i:r(i, j)=1}(\\theta(j)^T x^{(i)} - y^{(i, j)} x_k^{(i)} + \\lambda \\theta_k^{(j)}$$"
   ]
  },
  {
   "cell_type": "code",
   "execution_count": 87,
   "metadata": {},
   "outputs": [],
   "source": [
    "def gradient(params, Y, R, num_users, num_movies, num_features, lambd):    \n",
    "    # unwrap params into X and theta\n",
    "    X = params[: num_movies * num_features].reshape(num_movies, num_features)\n",
    "    theta = params[num_movies * num_features:].reshape(num_users, num_features)\n",
    "\n",
    "    # make prediction and compute loss\n",
    "    pred =  np.dot(X, theta.T)\n",
    "    loss = (pred - Y)\n",
    "        \n",
    "    # compute gradient with regularization\n",
    "    X_grad = np.dot(loss * R, theta) + lambd * X\n",
    "    theta_grad = np.dot((loss * R).T, X) + lambd * Theta\n",
    "\n",
    "    grad = np.squeeze(np.concatenate((X_grad.reshape([num_movies * num_features, 1], order = \"f\"),\n",
    "                      theta_grad.reshape([num_users * num_features, 1], order = \"f\"))))\n",
    "\n",
    "    return grad"
   ]
  },
  {
   "cell_type": "code",
   "execution_count": 88,
   "metadata": {},
   "outputs": [],
   "source": [
    "def optimize(params, Y, r, n_users, n_items, n_features, lambd, step, maxrun):\n",
    "    loss = []\n",
    "    for i in tqdm.trange(maxrun):\n",
    "        params_prime = params\n",
    "        J = loss(params_prime, Y, r, n_users, n_items, n_features, lambd)\n",
    "        grad = gradient(params_prime, Y, r, n_users, n_items, n_features, lambd)\n",
    "        params = params_prime - step * grad\n",
    "        # append loss value on each iteration to loss list so we can plot\n",
    "        loss.append(J)\n",
    "\n",
    "    return params, loss"
   ]
  },
  {
   "cell_type": "code",
   "execution_count": 89,
   "metadata": {},
   "outputs": [],
   "source": [
    "n_items, n_users = ratings.shape\n",
    "n_features = 1"
   ]
  },
  {
   "cell_type": "code",
   "execution_count": 90,
   "metadata": {},
   "outputs": [],
   "source": [
    "# Initialization\n",
    "X = np.random.normal(loc = 0.0, scale = 1.0, size = (n_items, n_features))\n",
    "Theta = np.random.normal(loc = 0.0, scale = 1.0, size = (n_users,n_features))\n",
    "\n",
    "init_params = np.concatenate((X.reshape(n_items * n_features, 1, order = \"F\"),\n",
    "                             Theta.reshape(n_users * n_features, 1, order = \"F\")))\n",
    "init_params = np.squeeze(init_params)"
   ]
  },
  {
   "cell_type": "code",
   "execution_count": 93,
   "metadata": {},
   "outputs": [
    {
     "name": "stderr",
     "output_type": "stream",
     "text": [
      "100%|██████████| 10000/10000 [04:28<00:00, 37.25it/s]\n"
     ]
    }
   ],
   "source": [
    "# Optimization\n",
    "lamba = 0.1\n",
    "maxrun = 4000\n",
    "step = 0.00001\n",
    "params, loss = optimize(init_params, ratings, R, n_users, n_items, n_features, lamba, step, maxrun)"
   ]
  },
  {
   "cell_type": "code",
   "execution_count": 94,
   "metadata": {},
   "outputs": [
    {
     "data": {
      "image/png": "[encoded data removed]",
      "text/plain": [
       "<Figure size 432x288 with 1 Axes>"
      ]
     },
     "metadata": {
      "needs_background": "light"
     },
     "output_type": "display_data"
    }
   ],
   "source": [
    "# loss\n",
    "plt.plot(loss,\"b.\",markersize=1,label=\"loss\") # note: this is 0-based\n",
    "plt.show()"
   ]
  },
  {
   "cell_type": "code",
   "execution_count": 95,
   "metadata": {},
   "outputs": [],
   "source": [
    "# Extract X and Theta from params vector\n",
    "X = params[0:(n_items * n_features)]\n",
    "Theta = params[(n_items * n_features):len(params)]"
   ]
  },
  {
   "cell_type": "code",
   "execution_count": 96,
   "metadata": {},
   "outputs": [
    {
     "data": {
      "text/plain": [
       "((1680,), (943,))"
      ]
     },
     "execution_count": 96,
     "metadata": {},
     "output_type": "execute_result"
    }
   ],
   "source": [
    "X.shape, Theta.shape"
   ]
  },
  {
   "cell_type": "code",
   "execution_count": 97,
   "metadata": {},
   "outputs": [
    {
     "data": {
      "text/plain": [
       "array([[-2.00434982],\n",
       "       [-1.69214737],\n",
       "       [-1.60053077],\n",
       "       ...,\n",
       "       [-0.52659874],\n",
       "       [-0.7802559 ],\n",
       "       [-0.51879928]])"
      ]
     },
     "execution_count": 97,
     "metadata": {},
     "output_type": "execute_result"
    }
   ],
   "source": [
    "X.reshape(n_items, n_features)"
   ]
  },
  {
   "cell_type": "code",
   "execution_count": 98,
   "metadata": {},
   "outputs": [],
   "source": [
    "X = X.reshape(n_items, n_features, order = \"F\")\n",
    "Theta = Theta.reshape(n_users, n_features, order = \"F\")"
   ]
  },
  {
   "cell_type": "code",
   "execution_count": 99,
   "metadata": {},
   "outputs": [
    {
     "data": {
      "text/plain": [
       "((1680, 1), (943, 1))"
      ]
     },
     "execution_count": 99,
     "metadata": {},
     "output_type": "execute_result"
    }
   ],
   "source": [
    "X.shape, Theta.shape"
   ]
  },
  {
   "cell_type": "code",
   "execution_count": 100,
   "metadata": {},
   "outputs": [
    {
     "data": {
      "text/plain": [
       "array([[-2.00434982],\n",
       "       [-1.69214737],\n",
       "       [-1.60053077],\n",
       "       ...,\n",
       "       [-0.52659874],\n",
       "       [-0.7802559 ],\n",
       "       [-0.51879928]])"
      ]
     },
     "execution_count": 100,
     "metadata": {},
     "output_type": "execute_result"
    }
   ],
   "source": [
    "X"
   ]
  },
  {
   "cell_type": "code",
   "execution_count": 101,
   "metadata": {},
   "outputs": [],
   "source": [
    "pred = np.dot(X, Theta.T)"
   ]
  },
  {
   "cell_type": "code",
   "execution_count": 102,
   "metadata": {},
   "outputs": [
    {
     "data": {
      "text/plain": [
       "array([[4., 4., 3., ..., 4., 4., 4.],\n",
       "       [3., 3., 3., ..., 3., 4., 3.],\n",
       "       [3., 3., 3., ..., 3., 3., 3.],\n",
       "       ...,\n",
       "       [1., 1., 1., ..., 1., 1., 1.],\n",
       "       [2., 2., 1., ..., 2., 2., 1.],\n",
       "       [1., 1., 1., ..., 1., 1., 1.]])"
      ]
     },
     "execution_count": 102,
     "metadata": {},
     "output_type": "execute_result"
    }
   ],
   "source": [
    "pred.round()"
   ]
  },
  {
   "cell_type": "markdown",
   "metadata": {},
   "source": [
    "## References\n",
    "\n",
    "1. [F. Maxwell Harper and Joseph A. Konstan. 2015. The MovieLens Datasets: History and Context. ACM Transactions on Interactive Intelligent Systems (TiiS) 5, 4, Article 19 (December 2015), 19 pages.](http://dx.doi.org/10.1145/2827872)"
   ]
  }
 ],
 "metadata": {
  "kernelspec": {
   "display_name": "Python 3",
   "language": "python",
   "name": "python3"
  },
  "language_info": {
   "codemirror_mode": {
    "name": "ipython",
    "version": 3
   },
   "file_extension": ".py",
   "mimetype": "text/x-python",
   "name": "python",
   "nbconvert_exporter": "python",
   "pygments_lexer": "ipython3",
   "version": "3.7.4"
  }
 },
 "nbformat": 4,
 "nbformat_minor": 4
}
